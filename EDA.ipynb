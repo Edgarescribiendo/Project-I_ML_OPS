{
 "cells": [
  {
   "cell_type": "markdown",
   "metadata": {},
   "source": [
    "Importacion de Librerias"
   ]
  },
  {
   "cell_type": "code",
   "execution_count": 45,
   "metadata": {},
   "outputs": [],
   "source": [
    "import pandas as pd\n",
    "import numpy as np\n",
    "import matplotlib.pyplot as plt\n",
    "import seaborn as sns\n",
    "import pyarrow as pa\n",
    "import pyarrow.parquet as pq"
   ]
  },
  {
   "cell_type": "code",
   "execution_count": 46,
   "metadata": {},
   "outputs": [],
   "source": [
    "# Carga de archivo merge de toda la data (csv)\n",
    "all_data_merge = pd.read_csv(\"Data/all_data_merge.csv\")"
   ]
  },
  {
   "cell_type": "code",
   "execution_count": 47,
   "metadata": {},
   "outputs": [
    {
     "data": {
      "text/html": [
       "<div>\n",
       "<style scoped>\n",
       "    .dataframe tbody tr th:only-of-type {\n",
       "        vertical-align: middle;\n",
       "    }\n",
       "\n",
       "    .dataframe tbody tr th {\n",
       "        vertical-align: top;\n",
       "    }\n",
       "\n",
       "    .dataframe thead th {\n",
       "        text-align: right;\n",
       "    }\n",
       "</style>\n",
       "<table border=\"1\" class=\"dataframe\">\n",
       "  <thead>\n",
       "    <tr style=\"text-align: right;\">\n",
       "      <th></th>\n",
       "      <th>id</th>\n",
       "      <th>user_id</th>\n",
       "      <th>item_id</th>\n",
       "      <th>title</th>\n",
       "      <th>genres</th>\n",
       "      <th>developer</th>\n",
       "      <th>release_date</th>\n",
       "      <th>price</th>\n",
       "      <th>recommend</th>\n",
       "      <th>year</th>\n",
       "      <th>sentiment_analysis</th>\n",
       "      <th>playtime_forever</th>\n",
       "    </tr>\n",
       "  </thead>\n",
       "  <tbody>\n",
       "    <tr>\n",
       "      <th>0</th>\n",
       "      <td>7656119797098247922200</td>\n",
       "      <td>76561197970982479</td>\n",
       "      <td>22200</td>\n",
       "      <td>Zeno Clash</td>\n",
       "      <td>Action</td>\n",
       "      <td>ACE Team</td>\n",
       "      <td>2009-04-21</td>\n",
       "      <td>9.99</td>\n",
       "      <td>1</td>\n",
       "      <td>2011</td>\n",
       "      <td>2</td>\n",
       "      <td>271</td>\n",
       "    </tr>\n",
       "    <tr>\n",
       "      <th>1</th>\n",
       "      <td>765611979709824791250</td>\n",
       "      <td>76561197970982479</td>\n",
       "      <td>1250</td>\n",
       "      <td>Killing Floor</td>\n",
       "      <td>Action</td>\n",
       "      <td>Tripwire Interactive</td>\n",
       "      <td>2009-05-14</td>\n",
       "      <td>19.99</td>\n",
       "      <td>1</td>\n",
       "      <td>2011</td>\n",
       "      <td>1</td>\n",
       "      <td>10006</td>\n",
       "    </tr>\n",
       "    <tr>\n",
       "      <th>2</th>\n",
       "      <td>js41637227300</td>\n",
       "      <td>js41637</td>\n",
       "      <td>227300</td>\n",
       "      <td>Euro Truck Simulator 2</td>\n",
       "      <td>Indie</td>\n",
       "      <td>SCS Software</td>\n",
       "      <td>2013-01-16</td>\n",
       "      <td>19.99</td>\n",
       "      <td>1</td>\n",
       "      <td>2013</td>\n",
       "      <td>1</td>\n",
       "      <td>551</td>\n",
       "    </tr>\n",
       "    <tr>\n",
       "      <th>3</th>\n",
       "      <td>js41637239030</td>\n",
       "      <td>js41637</td>\n",
       "      <td>239030</td>\n",
       "      <td>Papers, Please</td>\n",
       "      <td>Adventure</td>\n",
       "      <td>3909</td>\n",
       "      <td>2013-08-08</td>\n",
       "      <td>9.99</td>\n",
       "      <td>1</td>\n",
       "      <td>2013</td>\n",
       "      <td>1</td>\n",
       "      <td>349</td>\n",
       "    </tr>\n",
       "    <tr>\n",
       "      <th>4</th>\n",
       "      <td>evcentric107200</td>\n",
       "      <td>evcentric</td>\n",
       "      <td>107200</td>\n",
       "      <td>Space Pirates and Zombies</td>\n",
       "      <td>Action</td>\n",
       "      <td>MinMax Games Ltd.</td>\n",
       "      <td>2011-08-15</td>\n",
       "      <td>9.99</td>\n",
       "      <td>1</td>\n",
       "      <td>2014</td>\n",
       "      <td>1</td>\n",
       "      <td>3225</td>\n",
       "    </tr>\n",
       "    <tr>\n",
       "      <th>...</th>\n",
       "      <td>...</td>\n",
       "      <td>...</td>\n",
       "      <td>...</td>\n",
       "      <td>...</td>\n",
       "      <td>...</td>\n",
       "      <td>...</td>\n",
       "      <td>...</td>\n",
       "      <td>...</td>\n",
       "      <td>...</td>\n",
       "      <td>...</td>\n",
       "      <td>...</td>\n",
       "      <td>...</td>\n",
       "    </tr>\n",
       "    <tr>\n",
       "      <th>32539</th>\n",
       "      <td>76561198239215706730</td>\n",
       "      <td>76561198239215706</td>\n",
       "      <td>730</td>\n",
       "      <td>Counter-Strike: Global Offensive</td>\n",
       "      <td>Action</td>\n",
       "      <td>Valve</td>\n",
       "      <td>2012-08-21</td>\n",
       "      <td>14.99</td>\n",
       "      <td>1</td>\n",
       "      <td>2015</td>\n",
       "      <td>1</td>\n",
       "      <td>4659</td>\n",
       "    </tr>\n",
       "    <tr>\n",
       "      <th>32540</th>\n",
       "      <td>wayfeng730</td>\n",
       "      <td>wayfeng</td>\n",
       "      <td>730</td>\n",
       "      <td>Counter-Strike: Global Offensive</td>\n",
       "      <td>Action</td>\n",
       "      <td>Valve</td>\n",
       "      <td>2012-08-21</td>\n",
       "      <td>14.99</td>\n",
       "      <td>1</td>\n",
       "      <td>2015</td>\n",
       "      <td>1</td>\n",
       "      <td>42740</td>\n",
       "    </tr>\n",
       "    <tr>\n",
       "      <th>32541</th>\n",
       "      <td>76561198251004808253980</td>\n",
       "      <td>76561198251004808</td>\n",
       "      <td>253980</td>\n",
       "      <td>Enclave</td>\n",
       "      <td>RPG</td>\n",
       "      <td>Starbreeze</td>\n",
       "      <td>2003-03-10</td>\n",
       "      <td>4.99</td>\n",
       "      <td>1</td>\n",
       "      <td>2015</td>\n",
       "      <td>2</td>\n",
       "      <td>1098</td>\n",
       "    </tr>\n",
       "    <tr>\n",
       "      <th>32542</th>\n",
       "      <td>72947282842730</td>\n",
       "      <td>72947282842</td>\n",
       "      <td>730</td>\n",
       "      <td>Counter-Strike: Global Offensive</td>\n",
       "      <td>Action</td>\n",
       "      <td>Valve</td>\n",
       "      <td>2012-08-21</td>\n",
       "      <td>14.99</td>\n",
       "      <td>1</td>\n",
       "      <td>2015</td>\n",
       "      <td>0</td>\n",
       "      <td>33</td>\n",
       "    </tr>\n",
       "    <tr>\n",
       "      <th>32543</th>\n",
       "      <td>ApxLGhost730</td>\n",
       "      <td>ApxLGhost</td>\n",
       "      <td>730</td>\n",
       "      <td>Counter-Strike: Global Offensive</td>\n",
       "      <td>Action</td>\n",
       "      <td>Valve</td>\n",
       "      <td>2012-08-21</td>\n",
       "      <td>14.99</td>\n",
       "      <td>1</td>\n",
       "      <td>2015</td>\n",
       "      <td>1</td>\n",
       "      <td>10121</td>\n",
       "    </tr>\n",
       "  </tbody>\n",
       "</table>\n",
       "<p>32544 rows × 12 columns</p>\n",
       "</div>"
      ],
      "text/plain": [
       "                            id            user_id  item_id  \\\n",
       "0       7656119797098247922200  76561197970982479    22200   \n",
       "1        765611979709824791250  76561197970982479     1250   \n",
       "2                js41637227300            js41637   227300   \n",
       "3                js41637239030            js41637   239030   \n",
       "4              evcentric107200          evcentric   107200   \n",
       "...                        ...                ...      ...   \n",
       "32539     76561198239215706730  76561198239215706      730   \n",
       "32540               wayfeng730            wayfeng      730   \n",
       "32541  76561198251004808253980  76561198251004808   253980   \n",
       "32542           72947282842730        72947282842      730   \n",
       "32543             ApxLGhost730          ApxLGhost      730   \n",
       "\n",
       "                                  title     genres             developer  \\\n",
       "0                            Zeno Clash     Action              ACE Team   \n",
       "1                         Killing Floor     Action  Tripwire Interactive   \n",
       "2                Euro Truck Simulator 2      Indie          SCS Software   \n",
       "3                        Papers, Please  Adventure                  3909   \n",
       "4             Space Pirates and Zombies     Action     MinMax Games Ltd.   \n",
       "...                                 ...        ...                   ...   \n",
       "32539  Counter-Strike: Global Offensive     Action                 Valve   \n",
       "32540  Counter-Strike: Global Offensive     Action                 Valve   \n",
       "32541                           Enclave        RPG            Starbreeze   \n",
       "32542  Counter-Strike: Global Offensive     Action                 Valve   \n",
       "32543  Counter-Strike: Global Offensive     Action                 Valve   \n",
       "\n",
       "      release_date  price  recommend  year  sentiment_analysis  \\\n",
       "0       2009-04-21   9.99          1  2011                   2   \n",
       "1       2009-05-14  19.99          1  2011                   1   \n",
       "2       2013-01-16  19.99          1  2013                   1   \n",
       "3       2013-08-08   9.99          1  2013                   1   \n",
       "4       2011-08-15   9.99          1  2014                   1   \n",
       "...            ...    ...        ...   ...                 ...   \n",
       "32539   2012-08-21  14.99          1  2015                   1   \n",
       "32540   2012-08-21  14.99          1  2015                   1   \n",
       "32541   2003-03-10   4.99          1  2015                   2   \n",
       "32542   2012-08-21  14.99          1  2015                   0   \n",
       "32543   2012-08-21  14.99          1  2015                   1   \n",
       "\n",
       "       playtime_forever  \n",
       "0                   271  \n",
       "1                 10006  \n",
       "2                   551  \n",
       "3                   349  \n",
       "4                  3225  \n",
       "...                 ...  \n",
       "32539              4659  \n",
       "32540             42740  \n",
       "32541              1098  \n",
       "32542                33  \n",
       "32543             10121  \n",
       "\n",
       "[32544 rows x 12 columns]"
      ]
     },
     "execution_count": 47,
     "metadata": {},
     "output_type": "execute_result"
    }
   ],
   "source": [
    "all_data_merge['recommend'] = all_data_merge['recommend'].apply(lambda x: 1 if x else 0)\n",
    "all_data_merge"
   ]
  },
  {
   "cell_type": "markdown",
   "metadata": {},
   "source": [
    "Informacion de las tablas de cada archivo"
   ]
  },
  {
   "cell_type": "code",
   "execution_count": 60,
   "metadata": {},
   "outputs": [
    {
     "name": "stdout",
     "output_type": "stream",
     "text": [
      "<class 'pandas.core.frame.DataFrame'>\n",
      "RangeIndex: 32544 entries, 0 to 32543\n",
      "Data columns (total 12 columns):\n",
      " #   Column              Non-Null Count  Dtype  \n",
      "---  ------              --------------  -----  \n",
      " 0   id                  32544 non-null  object \n",
      " 1   user_id             32544 non-null  object \n",
      " 2   item_id             32544 non-null  int64  \n",
      " 3   title               32544 non-null  object \n",
      " 4   genres              32544 non-null  object \n",
      " 5   developer           32544 non-null  object \n",
      " 6   release_date        32544 non-null  object \n",
      " 7   price               32544 non-null  float64\n",
      " 8   recommend           32544 non-null  int64  \n",
      " 9   year                32544 non-null  int64  \n",
      " 10  sentiment_analysis  32544 non-null  int64  \n",
      " 11  playtime_forever    32544 non-null  int64  \n",
      "dtypes: float64(1), int64(5), object(6)\n",
      "memory usage: 3.0+ MB\n"
     ]
    }
   ],
   "source": [
    "all_data_merge.info()"
   ]
  },
  {
   "cell_type": "code",
   "execution_count": 49,
   "metadata": {},
   "outputs": [
    {
     "data": {
      "text/html": [
       "<div>\n",
       "<style scoped>\n",
       "    .dataframe tbody tr th:only-of-type {\n",
       "        vertical-align: middle;\n",
       "    }\n",
       "\n",
       "    .dataframe tbody tr th {\n",
       "        vertical-align: top;\n",
       "    }\n",
       "\n",
       "    .dataframe thead th {\n",
       "        text-align: right;\n",
       "    }\n",
       "</style>\n",
       "<table border=\"1\" class=\"dataframe\">\n",
       "  <thead>\n",
       "    <tr style=\"text-align: right;\">\n",
       "      <th></th>\n",
       "      <th>item_id</th>\n",
       "      <th>price</th>\n",
       "      <th>recommend</th>\n",
       "      <th>year</th>\n",
       "      <th>sentiment_analysis</th>\n",
       "      <th>playtime_forever</th>\n",
       "    </tr>\n",
       "  </thead>\n",
       "  <tbody>\n",
       "    <tr>\n",
       "      <th>count</th>\n",
       "      <td>32544.000000</td>\n",
       "      <td>32544.000000</td>\n",
       "      <td>32544.000000</td>\n",
       "      <td>32544.000000</td>\n",
       "      <td>32544.000000</td>\n",
       "      <td>32544.000000</td>\n",
       "    </tr>\n",
       "    <tr>\n",
       "      <th>mean</th>\n",
       "      <td>166253.825805</td>\n",
       "      <td>14.739926</td>\n",
       "      <td>0.911935</td>\n",
       "      <td>2014.201297</td>\n",
       "      <td>1.218320</td>\n",
       "      <td>9611.999140</td>\n",
       "    </tr>\n",
       "    <tr>\n",
       "      <th>std</th>\n",
       "      <td>123120.553576</td>\n",
       "      <td>13.764446</td>\n",
       "      <td>0.283394</td>\n",
       "      <td>0.820682</td>\n",
       "      <td>0.581016</td>\n",
       "      <td>23126.545148</td>\n",
       "    </tr>\n",
       "    <tr>\n",
       "      <th>min</th>\n",
       "      <td>10.000000</td>\n",
       "      <td>0.000000</td>\n",
       "      <td>0.000000</td>\n",
       "      <td>2010.000000</td>\n",
       "      <td>0.000000</td>\n",
       "      <td>0.000000</td>\n",
       "    </tr>\n",
       "    <tr>\n",
       "      <th>25%</th>\n",
       "      <td>17470.000000</td>\n",
       "      <td>6.990000</td>\n",
       "      <td>1.000000</td>\n",
       "      <td>2014.000000</td>\n",
       "      <td>1.000000</td>\n",
       "      <td>428.000000</td>\n",
       "    </tr>\n",
       "    <tr>\n",
       "      <th>50%</th>\n",
       "      <td>212480.000000</td>\n",
       "      <td>14.990000</td>\n",
       "      <td>1.000000</td>\n",
       "      <td>2014.000000</td>\n",
       "      <td>1.000000</td>\n",
       "      <td>1604.000000</td>\n",
       "    </tr>\n",
       "    <tr>\n",
       "      <th>75%</th>\n",
       "      <td>252490.000000</td>\n",
       "      <td>19.990000</td>\n",
       "      <td>1.000000</td>\n",
       "      <td>2015.000000</td>\n",
       "      <td>2.000000</td>\n",
       "      <td>6992.250000</td>\n",
       "    </tr>\n",
       "    <tr>\n",
       "      <th>max</th>\n",
       "      <td>428880.000000</td>\n",
       "      <td>771.710000</td>\n",
       "      <td>1.000000</td>\n",
       "      <td>2015.000000</td>\n",
       "      <td>2.000000</td>\n",
       "      <td>642773.000000</td>\n",
       "    </tr>\n",
       "  </tbody>\n",
       "</table>\n",
       "</div>"
      ],
      "text/plain": [
       "             item_id         price     recommend          year  \\\n",
       "count   32544.000000  32544.000000  32544.000000  32544.000000   \n",
       "mean   166253.825805     14.739926      0.911935   2014.201297   \n",
       "std    123120.553576     13.764446      0.283394      0.820682   \n",
       "min        10.000000      0.000000      0.000000   2010.000000   \n",
       "25%     17470.000000      6.990000      1.000000   2014.000000   \n",
       "50%    212480.000000     14.990000      1.000000   2014.000000   \n",
       "75%    252490.000000     19.990000      1.000000   2015.000000   \n",
       "max    428880.000000    771.710000      1.000000   2015.000000   \n",
       "\n",
       "       sentiment_analysis  playtime_forever  \n",
       "count        32544.000000      32544.000000  \n",
       "mean             1.218320       9611.999140  \n",
       "std              0.581016      23126.545148  \n",
       "min              0.000000          0.000000  \n",
       "25%              1.000000        428.000000  \n",
       "50%              1.000000       1604.000000  \n",
       "75%              2.000000       6992.250000  \n",
       "max              2.000000     642773.000000  "
      ]
     },
     "execution_count": 49,
     "metadata": {},
     "output_type": "execute_result"
    }
   ],
   "source": [
    "all_data_merge.describe()"
   ]
  },
  {
   "cell_type": "code",
   "execution_count": 50,
   "metadata": {},
   "outputs": [
    {
     "data": {
      "text/plain": [
       "id\n",
       "76561198027488037105600    9\n",
       "blablabla174730            9\n",
       "76561198045953692261030    9\n",
       "76561198092735015273110    4\n",
       "chicken_tonight285900      4\n",
       "                          ..\n",
       "76561198060207360270450    1\n",
       "76561198060207360219150    1\n",
       "76561198082794606212070    1\n",
       "subsonicsnigger320140      1\n",
       "ApxLGhost730               1\n",
       "Name: count, Length: 31136, dtype: int64"
      ]
     },
     "execution_count": 50,
     "metadata": {},
     "output_type": "execute_result"
    }
   ],
   "source": [
    "# descripcion de variables categoricas\n",
    "all_data_merge['id'].value_counts()\n",
    "    # un identificador unico para cada user que jugó duferentes juegos"
   ]
  },
  {
   "cell_type": "code",
   "execution_count": 51,
   "metadata": {},
   "outputs": [
    {
     "data": {
      "text/plain": [
       "user_id\n",
       "76561198064484479    32\n",
       "MinerKnight          28\n",
       "nitr0ticwolf         28\n",
       "76561198094665607    28\n",
       "chicken_tonight      28\n",
       "                     ..\n",
       "Nuep                  1\n",
       "JakKnifez             1\n",
       "Totalfire_            1\n",
       "169420666             1\n",
       "ApxLGhost             1\n",
       "Name: count, Length: 16200, dtype: int64"
      ]
     },
     "execution_count": 51,
     "metadata": {},
     "output_type": "execute_result"
    }
   ],
   "source": [
    "all_data_merge['user_id'].value_counts()"
   ]
  },
  {
   "cell_type": "code",
   "execution_count": 52,
   "metadata": {},
   "outputs": [
    {
     "data": {
      "text/plain": [
       "item_id\n",
       "730       2814\n",
       "4000      1462\n",
       "304930     845\n",
       "550        639\n",
       "105600     629\n",
       "          ... \n",
       "215710       1\n",
       "259550       1\n",
       "265330       1\n",
       "296650       1\n",
       "307130       1\n",
       "Name: count, Length: 2063, dtype: int64"
      ]
     },
     "execution_count": 52,
     "metadata": {},
     "output_type": "execute_result"
    }
   ],
   "source": [
    "all_data_merge['item_id'].value_counts()"
   ]
  },
  {
   "cell_type": "code",
   "execution_count": 53,
   "metadata": {},
   "outputs": [
    {
     "data": {
      "text/plain": [
       "title\n",
       "Counter-Strike: Global Offensive    2814\n",
       "Garry's Mod                         1462\n",
       "Unturned                             845\n",
       "Left 4 Dead 2                        639\n",
       "Terraria                             629\n",
       "                                    ... \n",
       "Fieldrunners 2                         1\n",
       "Hero of the Kingdom                    1\n",
       "Gomo                                   1\n",
       "The Great Jitters: Pudding Panic       1\n",
       "Asteria                                1\n",
       "Name: count, Length: 2063, dtype: int64"
      ]
     },
     "execution_count": 53,
     "metadata": {},
     "output_type": "execute_result"
    }
   ],
   "source": [
    "all_data_merge['title'].value_counts()"
   ]
  },
  {
   "cell_type": "code",
   "execution_count": 55,
   "metadata": {},
   "outputs": [
    {
     "data": {
      "text/plain": [
       "developer\n",
       "Valve                    4449\n",
       "Facepunch Studios        2070\n",
       "Bohemia Interactive       937\n",
       "Smartly Dressed Games     845\n",
       "Re-Logic                  629\n",
       "                         ... \n",
       "GlyphX Games                1\n",
       "Teyon                       1\n",
       "Gaming Minds                1\n",
       "Wanako Games                1\n",
       "Legend Studio               1\n",
       "Name: count, Length: 1524, dtype: int64"
      ]
     },
     "execution_count": 55,
     "metadata": {},
     "output_type": "execute_result"
    }
   ],
   "source": [
    "all_data_merge['developer'].value_counts()"
   ]
  },
  {
   "cell_type": "code",
   "execution_count": 57,
   "metadata": {},
   "outputs": [
    {
     "data": {
      "text/plain": [
       "genres\n",
       "Action                       23761\n",
       "Indie                         3147\n",
       "Adventure                     2045\n",
       "Strategy                       994\n",
       "Casual                         966\n",
       "RPG                            594\n",
       "Free to Play                   402\n",
       "Simulation                     359\n",
       "Racing                         192\n",
       "Massively Multiplayer           31\n",
       "Animation &amp; Modeling        20\n",
       "Utilities                       12\n",
       "Sports                          10\n",
       "Design &amp; Illustration        8\n",
       "Audio Production                 2\n",
       "Video Production                 1\n",
       "Name: count, dtype: int64"
      ]
     },
     "execution_count": 57,
     "metadata": {},
     "output_type": "execute_result"
    }
   ],
   "source": [
    "all_data_merge['genres'].value_counts()"
   ]
  },
  {
   "cell_type": "code",
   "execution_count": 59,
   "metadata": {},
   "outputs": [
    {
     "data": {
      "image/png": "[encoded data removed]",
      "text/plain": [
       "<Figure size 1500x1000 with 6 Axes>"
      ]
     },
     "metadata": {},
     "output_type": "display_data"
    }
   ],
   "source": [
    "all_data_merge.hist(bins=50, figsize=(15,10))\n",
    "plt.show()"
   ]
  }
 ],
 "metadata": {
  "kernelspec": {
   "display_name": "Proyecto-individual",
   "language": "python",
   "name": "python3"
  },
  "language_info": {
   "codemirror_mode": {
    "name": "ipython",
    "version": 3
   },
   "file_extension": ".py",
   "mimetype": "text/x-python",
   "name": "python",
   "nbconvert_exporter": "python",
   "pygments_lexer": "ipython3",
   "version": "3.11.7"
  }
 },
 "nbformat": 4,
 "nbformat_minor": 2
}
